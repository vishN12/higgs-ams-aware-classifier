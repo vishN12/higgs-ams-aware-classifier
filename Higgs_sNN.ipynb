{
 "cells": [
  {
   "cell_type": "code",
   "execution_count": 24,
   "id": "712d45aa-11dc-4734-9bf2-2a02073dced7",
   "metadata": {},
   "outputs": [],
   "source": [
    "import pandas as pd"
   ]
  },
  {
   "cell_type": "code",
   "execution_count": 25,
   "id": "53fc8c9b-daa5-4709-a531-8dc29398e9b9",
   "metadata": {},
   "outputs": [
    {
     "name": "stdout",
     "output_type": "stream",
     "text": [
      "(250000, 33)\n"
     ]
    },
    {
     "data": {
      "text/html": [
       "<div>\n",
       "<style scoped>\n",
       "    .dataframe tbody tr th:only-of-type {\n",
       "        vertical-align: middle;\n",
       "    }\n",
       "\n",
       "    .dataframe tbody tr th {\n",
       "        vertical-align: top;\n",
       "    }\n",
       "\n",
       "    .dataframe thead th {\n",
       "        text-align: right;\n",
       "    }\n",
       "</style>\n",
       "<table border=\"1\" class=\"dataframe\">\n",
       "  <thead>\n",
       "    <tr style=\"text-align: right;\">\n",
       "      <th></th>\n",
       "      <th>EventId</th>\n",
       "      <th>DER_mass_MMC</th>\n",
       "      <th>DER_mass_transverse_met_lep</th>\n",
       "      <th>DER_mass_vis</th>\n",
       "      <th>DER_pt_h</th>\n",
       "      <th>DER_deltaeta_jet_jet</th>\n",
       "      <th>DER_mass_jet_jet</th>\n",
       "      <th>DER_prodeta_jet_jet</th>\n",
       "      <th>DER_deltar_tau_lep</th>\n",
       "      <th>DER_pt_tot</th>\n",
       "      <th>...</th>\n",
       "      <th>PRI_jet_num</th>\n",
       "      <th>PRI_jet_leading_pt</th>\n",
       "      <th>PRI_jet_leading_eta</th>\n",
       "      <th>PRI_jet_leading_phi</th>\n",
       "      <th>PRI_jet_subleading_pt</th>\n",
       "      <th>PRI_jet_subleading_eta</th>\n",
       "      <th>PRI_jet_subleading_phi</th>\n",
       "      <th>PRI_jet_all_pt</th>\n",
       "      <th>Weight</th>\n",
       "      <th>Label</th>\n",
       "    </tr>\n",
       "  </thead>\n",
       "  <tbody>\n",
       "    <tr>\n",
       "      <th>0</th>\n",
       "      <td>100000</td>\n",
       "      <td>138.470</td>\n",
       "      <td>51.655</td>\n",
       "      <td>97.827</td>\n",
       "      <td>27.980</td>\n",
       "      <td>0.91</td>\n",
       "      <td>124.711</td>\n",
       "      <td>2.666</td>\n",
       "      <td>3.064</td>\n",
       "      <td>41.928</td>\n",
       "      <td>...</td>\n",
       "      <td>2</td>\n",
       "      <td>67.435</td>\n",
       "      <td>2.150</td>\n",
       "      <td>0.444</td>\n",
       "      <td>46.062</td>\n",
       "      <td>1.24</td>\n",
       "      <td>-2.475</td>\n",
       "      <td>113.497</td>\n",
       "      <td>0.002653</td>\n",
       "      <td>s</td>\n",
       "    </tr>\n",
       "    <tr>\n",
       "      <th>1</th>\n",
       "      <td>100001</td>\n",
       "      <td>160.937</td>\n",
       "      <td>68.768</td>\n",
       "      <td>103.235</td>\n",
       "      <td>48.146</td>\n",
       "      <td>-999.00</td>\n",
       "      <td>-999.000</td>\n",
       "      <td>-999.000</td>\n",
       "      <td>3.473</td>\n",
       "      <td>2.078</td>\n",
       "      <td>...</td>\n",
       "      <td>1</td>\n",
       "      <td>46.226</td>\n",
       "      <td>0.725</td>\n",
       "      <td>1.158</td>\n",
       "      <td>-999.000</td>\n",
       "      <td>-999.00</td>\n",
       "      <td>-999.000</td>\n",
       "      <td>46.226</td>\n",
       "      <td>2.233584</td>\n",
       "      <td>b</td>\n",
       "    </tr>\n",
       "    <tr>\n",
       "      <th>2</th>\n",
       "      <td>100002</td>\n",
       "      <td>-999.000</td>\n",
       "      <td>162.172</td>\n",
       "      <td>125.953</td>\n",
       "      <td>35.635</td>\n",
       "      <td>-999.00</td>\n",
       "      <td>-999.000</td>\n",
       "      <td>-999.000</td>\n",
       "      <td>3.148</td>\n",
       "      <td>9.336</td>\n",
       "      <td>...</td>\n",
       "      <td>1</td>\n",
       "      <td>44.251</td>\n",
       "      <td>2.053</td>\n",
       "      <td>-2.028</td>\n",
       "      <td>-999.000</td>\n",
       "      <td>-999.00</td>\n",
       "      <td>-999.000</td>\n",
       "      <td>44.251</td>\n",
       "      <td>2.347389</td>\n",
       "      <td>b</td>\n",
       "    </tr>\n",
       "    <tr>\n",
       "      <th>3</th>\n",
       "      <td>100003</td>\n",
       "      <td>143.905</td>\n",
       "      <td>81.417</td>\n",
       "      <td>80.943</td>\n",
       "      <td>0.414</td>\n",
       "      <td>-999.00</td>\n",
       "      <td>-999.000</td>\n",
       "      <td>-999.000</td>\n",
       "      <td>3.310</td>\n",
       "      <td>0.414</td>\n",
       "      <td>...</td>\n",
       "      <td>0</td>\n",
       "      <td>-999.000</td>\n",
       "      <td>-999.000</td>\n",
       "      <td>-999.000</td>\n",
       "      <td>-999.000</td>\n",
       "      <td>-999.00</td>\n",
       "      <td>-999.000</td>\n",
       "      <td>-0.000</td>\n",
       "      <td>5.446378</td>\n",
       "      <td>b</td>\n",
       "    </tr>\n",
       "    <tr>\n",
       "      <th>4</th>\n",
       "      <td>100004</td>\n",
       "      <td>175.864</td>\n",
       "      <td>16.915</td>\n",
       "      <td>134.805</td>\n",
       "      <td>16.405</td>\n",
       "      <td>-999.00</td>\n",
       "      <td>-999.000</td>\n",
       "      <td>-999.000</td>\n",
       "      <td>3.891</td>\n",
       "      <td>16.405</td>\n",
       "      <td>...</td>\n",
       "      <td>0</td>\n",
       "      <td>-999.000</td>\n",
       "      <td>-999.000</td>\n",
       "      <td>-999.000</td>\n",
       "      <td>-999.000</td>\n",
       "      <td>-999.00</td>\n",
       "      <td>-999.000</td>\n",
       "      <td>0.000</td>\n",
       "      <td>6.245333</td>\n",
       "      <td>b</td>\n",
       "    </tr>\n",
       "  </tbody>\n",
       "</table>\n",
       "<p>5 rows × 33 columns</p>\n",
       "</div>"
      ],
      "text/plain": [
       "   EventId  DER_mass_MMC  DER_mass_transverse_met_lep  DER_mass_vis  DER_pt_h  \\\n",
       "0   100000       138.470                       51.655        97.827    27.980   \n",
       "1   100001       160.937                       68.768       103.235    48.146   \n",
       "2   100002      -999.000                      162.172       125.953    35.635   \n",
       "3   100003       143.905                       81.417        80.943     0.414   \n",
       "4   100004       175.864                       16.915       134.805    16.405   \n",
       "\n",
       "   DER_deltaeta_jet_jet  DER_mass_jet_jet  DER_prodeta_jet_jet  \\\n",
       "0                  0.91           124.711                2.666   \n",
       "1               -999.00          -999.000             -999.000   \n",
       "2               -999.00          -999.000             -999.000   \n",
       "3               -999.00          -999.000             -999.000   \n",
       "4               -999.00          -999.000             -999.000   \n",
       "\n",
       "   DER_deltar_tau_lep  DER_pt_tot  ...  PRI_jet_num  PRI_jet_leading_pt  \\\n",
       "0               3.064      41.928  ...            2              67.435   \n",
       "1               3.473       2.078  ...            1              46.226   \n",
       "2               3.148       9.336  ...            1              44.251   \n",
       "3               3.310       0.414  ...            0            -999.000   \n",
       "4               3.891      16.405  ...            0            -999.000   \n",
       "\n",
       "   PRI_jet_leading_eta  PRI_jet_leading_phi  PRI_jet_subleading_pt  \\\n",
       "0                2.150                0.444                 46.062   \n",
       "1                0.725                1.158               -999.000   \n",
       "2                2.053               -2.028               -999.000   \n",
       "3             -999.000             -999.000               -999.000   \n",
       "4             -999.000             -999.000               -999.000   \n",
       "\n",
       "   PRI_jet_subleading_eta  PRI_jet_subleading_phi  PRI_jet_all_pt    Weight  \\\n",
       "0                    1.24                  -2.475         113.497  0.002653   \n",
       "1                 -999.00                -999.000          46.226  2.233584   \n",
       "2                 -999.00                -999.000          44.251  2.347389   \n",
       "3                 -999.00                -999.000          -0.000  5.446378   \n",
       "4                 -999.00                -999.000           0.000  6.245333   \n",
       "\n",
       "   Label  \n",
       "0      s  \n",
       "1      b  \n",
       "2      b  \n",
       "3      b  \n",
       "4      b  \n",
       "\n",
       "[5 rows x 33 columns]"
      ]
     },
     "execution_count": 25,
     "metadata": {},
     "output_type": "execute_result"
    }
   ],
   "source": [
    "train_df = pd.read_csv(\"training/training.csv\")\n",
    "test_df = pd.read_csv(\"test/test.csv\")\n",
    "\n",
    "print(train_df.shape)\n",
    "train_df.head()"
   ]
  },
  {
   "cell_type": "code",
   "execution_count": 26,
   "id": "507476bb-c413-4fdf-b5cb-5ab22172f1d7",
   "metadata": {},
   "outputs": [],
   "source": [
    "train_df.replace(-999.0, pd.NA, inplace=True)\n",
    "test_df.replace(-999.0, pd.NA, inplace=True)\n",
    "\n",
    "train_df.fillna(train_df.mean(numeric_only=True), inplace=True)\n",
    "test_df.fillna(test_df.mean(numeric_only=True), inplace=True)\n",
    "\n",
    "train_df.dropna(axis=1, thresh=int(0.9 * len(train_df)), inplace=True)\n",
    "test_df.dropna(axis=1, thresh=int(0.9 * len(test_df)), inplace=True)"
   ]
  },
  {
   "cell_type": "code",
   "execution_count": 27,
   "id": "22f3f001-6718-43dd-b84f-8ced54199820",
   "metadata": {},
   "outputs": [],
   "source": [
    "train_df[\"Label\"] = train_df[\"Label\"].str.strip().str.lower()\n",
    "train_df[\"Label\"] = train_df[\"Label\"].map({'s': 1, 'b': 0})\n",
    "\n",
    "feature_cols = [col for col in train_df.columns if col.startswith(\"DER_\") or col.startswith(\"PRI_\")]\n",
    "\n",
    "X_train = train_df[feature_cols]\n",
    "y_train = train_df[\"Label\"]\n",
    "\n",
    "X_test = test_df[feature_cols]"
   ]
  },
  {
   "cell_type": "code",
   "execution_count": 28,
   "id": "3db3b399-b8f8-499a-bf9d-122bb4321844",
   "metadata": {},
   "outputs": [],
   "source": [
    "from sklearn.preprocessing import StandardScaler\n",
    "\n",
    "scaler = StandardScaler()\n",
    "X_train_scaled = scaler.fit_transform(X_train)\n",
    "X_test_scaled = scaler.transform(X_test)  # Use same scaler!"
   ]
  },
  {
   "cell_type": "code",
   "execution_count": 29,
   "id": "737949a0-6c60-4188-8e49-f585cf2d3dd3",
   "metadata": {},
   "outputs": [],
   "source": [
    "from sklearn.model_selection import train_test_split\n",
    "\n",
    "X_full = X_train_scaled\n",
    "y_full = train_df[\"Label\"].values\n",
    "weights_full = train_df[\"Weight\"].values\n",
    "\n",
    "X_train, X_test, y_train, y_test, w_train, w_test = train_test_split(\n",
    "    X_full, y_full, weights_full, test_size=0.2, random_state=42, stratify=y_full\n",
    ")"
   ]
  },
  {
   "cell_type": "markdown",
   "id": "d0db418c-1793-499d-824c-bf373e0b54d6",
   "metadata": {},
   "source": [
    "## Training a Baseline Neural Network"
   ]
  },
  {
   "cell_type": "code",
   "execution_count": 30,
   "id": "6ef58770-d484-4ef5-98ae-ba89d119ecb8",
   "metadata": {},
   "outputs": [],
   "source": [
    "import numpy as np\n",
    "\n",
    "X_train = X_train.astype(np.float32)\n",
    "y_train = y_train.astype(np.float32)\n",
    "X_test = X_test.astype(np.float32)\n",
    "y_test = y_test.astype(np.float32)\n",
    "w_test = w_test.astype(np.float32)"
   ]
  },
  {
   "cell_type": "code",
   "execution_count": 31,
   "id": "d0474ca6-49c5-4529-9791-7620ac765b12",
   "metadata": {},
   "outputs": [],
   "source": [
    "import torch\n",
    "import torch.nn as nn\n",
    "\n",
    "class ShallowNet(nn.Module):\n",
    "    def __init__(self, input_dim):\n",
    "        super(ShallowNet, self).__init__()\n",
    "        self.model = nn.Sequential(\n",
    "            nn.Linear(input_dim, 100),\n",
    "            nn.ReLU(),\n",
    "            nn.Dropout(0.5),\n",
    "            nn.Linear(100, 1),\n",
    "            nn.Sigmoid()\n",
    "        )\n",
    "\n",
    "    def forward(self, x):\n",
    "        return self.model(x)"
   ]
  },
  {
   "cell_type": "code",
   "execution_count": 32,
   "id": "16957dba-e956-4663-9a6e-09035677ab8c",
   "metadata": {},
   "outputs": [
    {
     "data": {
      "text/plain": [
       "ShallowNet(\n",
       "  (model): Sequential(\n",
       "    (0): Linear(in_features=19, out_features=100, bias=True)\n",
       "    (1): ReLU()\n",
       "    (2): Dropout(p=0.5, inplace=False)\n",
       "    (3): Linear(in_features=100, out_features=1, bias=True)\n",
       "    (4): Sigmoid()\n",
       "  )\n",
       ")"
      ]
     },
     "execution_count": 32,
     "metadata": {},
     "output_type": "execute_result"
    }
   ],
   "source": [
    "model = ShallowNet(input_dim=X_train.shape[1])\n",
    "device = torch.device(\"cuda\" if torch.cuda.is_available() else \"cpu\")\n",
    "model.to(device)"
   ]
  },
  {
   "cell_type": "code",
   "execution_count": 33,
   "id": "e37faa0b-443e-4904-ad5b-9f19a501912f",
   "metadata": {},
   "outputs": [],
   "source": [
    "import torch.optim as optim\n",
    "\n",
    "criterion = nn.BCELoss()\n",
    "optimizer = optim.Adam(model.parameters(), lr=0.001)"
   ]
  },
  {
   "cell_type": "code",
   "execution_count": 34,
   "id": "c67e906c-cbb0-43b7-a706-7ca3347f9e99",
   "metadata": {},
   "outputs": [
    {
     "name": "stdout",
     "output_type": "stream",
     "text": [
      "Epoch 1/30 - Loss: 0.4682\n",
      "Epoch 2/30 - Loss: 0.4306\n",
      "Epoch 3/30 - Loss: 0.4230\n",
      "Epoch 4/30 - Loss: 0.4198\n",
      "Epoch 5/30 - Loss: 0.4177\n",
      "Epoch 6/30 - Loss: 0.4149\n",
      "Epoch 7/30 - Loss: 0.4140\n",
      "Epoch 8/30 - Loss: 0.4135\n",
      "Epoch 9/30 - Loss: 0.4121\n",
      "Epoch 10/30 - Loss: 0.4125\n",
      "Epoch 11/30 - Loss: 0.4112\n",
      "Epoch 12/30 - Loss: 0.4121\n",
      "Epoch 13/30 - Loss: 0.4114\n",
      "Epoch 14/30 - Loss: 0.4103\n",
      "Epoch 15/30 - Loss: 0.4121\n",
      "Epoch 16/30 - Loss: 0.4110\n",
      "Epoch 17/30 - Loss: 0.4110\n",
      "Epoch 18/30 - Loss: 0.4101\n",
      "Epoch 19/30 - Loss: 0.4104\n",
      "Epoch 20/30 - Loss: 0.4102\n",
      "Epoch 21/30 - Loss: 0.4093\n",
      "Epoch 22/30 - Loss: 0.4103\n",
      "Epoch 23/30 - Loss: 0.4106\n",
      "Epoch 24/30 - Loss: 0.4089\n",
      "Epoch 25/30 - Loss: 0.4109\n",
      "Epoch 26/30 - Loss: 0.4094\n",
      "Epoch 27/30 - Loss: 0.4090\n",
      "Epoch 28/30 - Loss: 0.4102\n",
      "Epoch 29/30 - Loss: 0.4096\n",
      "Epoch 30/30 - Loss: 0.4088\n"
     ]
    }
   ],
   "source": [
    "from torch.utils.data import TensorDataset, DataLoader\n",
    "\n",
    "train_dataset = TensorDataset(torch.tensor(X_train, dtype=torch.float32),\n",
    "                               torch.tensor(y_train, dtype=torch.float32).unsqueeze(1))\n",
    "train_loader = DataLoader(train_dataset, batch_size=128, shuffle=True)\n",
    "\n",
    "num_epochs = 30\n",
    "for epoch in range(num_epochs):\n",
    "    model.train()\n",
    "    total_loss = 0\n",
    "    for batch_x, batch_y in train_loader:\n",
    "        batch_x, batch_y = batch_x.to(device), batch_y.to(device)\n",
    "\n",
    "        optimizer.zero_grad()\n",
    "        outputs = model(batch_x)\n",
    "        loss = criterion(outputs, batch_y)\n",
    "        loss.backward()\n",
    "        optimizer.step()\n",
    "\n",
    "        total_loss += loss.item()\n",
    "\n",
    "    print(f\"Epoch {epoch+1}/{num_epochs} - Loss: {total_loss / len(train_loader):.4f}\")"
   ]
  },
  {
   "cell_type": "code",
   "execution_count": 35,
   "id": "bc51b035-046c-4dcd-b40b-7b8c41f37979",
   "metadata": {},
   "outputs": [
    {
     "name": "stdout",
     "output_type": "stream",
     "text": [
      "Accuracy: 0.82188\n",
      "AUC-ROC: 0.8913178833622885\n"
     ]
    }
   ],
   "source": [
    "model.eval()\n",
    "with torch.no_grad():\n",
    "    test_inputs = torch.tensor(X_test, dtype=torch.float32).to(device)\n",
    "    y_probs = model(test_inputs).cpu().numpy().ravel()\n",
    "\n",
    "from sklearn.metrics import accuracy_score, roc_auc_score\n",
    "\n",
    "y_preds = (y_probs > 0.5).astype(int)\n",
    "\n",
    "print(\"Accuracy:\", accuracy_score(y_test, y_preds))\n",
    "print(\"AUC-ROC:\", roc_auc_score(y_test, y_probs))"
   ]
  },
  {
   "cell_type": "code",
   "execution_count": 37,
   "id": "a77a2990-20c7-4c9b-8b80-c06bb833e2b3",
   "metadata": {},
   "outputs": [],
   "source": [
    "import numpy as np\n",
    "\n",
    "def compute_ams(y_true, y_pred, weights, threshold=0.5, b_reg=10.0):\n",
    "    y_pred_class = (y_pred > threshold).astype(int)\n",
    "    \n",
    "    s = weights[(y_true == 1) & (y_pred_class == 1)].sum()\n",
    "    b = weights[(y_true == 0) & (y_pred_class == 1)].sum()\n",
    "    \n",
    "    ams = np.sqrt(2 * ((s + b + b_reg) * np.log(1.0 + s / (b + b_reg)) - s))\n",
    "    return ams"
   ]
  },
  {
   "cell_type": "code",
   "execution_count": 38,
   "id": "e38c7a31-4694-4649-aea6-f1df7be4c47c",
   "metadata": {},
   "outputs": [
    {
     "name": "stdout",
     "output_type": "stream",
     "text": [
      "AMS Score (Shallow NN): 1.2066\n"
     ]
    }
   ],
   "source": [
    "ams = compute_ams(y_test, y_probs, w_test)\n",
    "print(f\"AMS Score (Shallow NN): {ams:.4f}\")"
   ]
  },
  {
   "cell_type": "code",
   "execution_count": 39,
   "id": "7cc9fed7-4a84-416f-a49e-3440581378bc",
   "metadata": {},
   "outputs": [],
   "source": [
    "np.savez(\"shallow_results.npz\", y_probs=y_probs, y_true=y_test)"
   ]
  },
  {
   "cell_type": "code",
   "execution_count": 42,
   "id": "86b37ca9-ae77-4f99-8cae-9f9c1ea5a3c5",
   "metadata": {},
   "outputs": [
    {
     "data": {
      "image/png": "[encoded data removed]",
      "text/plain": [
       "<Figure size 640x480 with 1 Axes>"
      ]
     },
     "metadata": {},
     "output_type": "display_data"
    }
   ],
   "source": [
    "thresholds = np.linspace(0.01, 0.99, 100)\n",
    "ams_scores = [compute_ams(y_test, y_probs, w_test, threshold=t) for t in thresholds]\n",
    "\n",
    "plt.plot(thresholds, ams_scores)\n",
    "plt.xlabel(\"Threshold\")\n",
    "plt.ylabel(\"AMS\")\n",
    "plt.title(\"AMS vs Threshold\")\n",
    "plt.grid(True)\n",
    "plt.show()"
   ]
  },
  {
   "cell_type": "code",
   "execution_count": 43,
   "id": "3408133b-374a-4c88-a652-91560a2e2c98",
   "metadata": {},
   "outputs": [
    {
     "name": "stdout",
     "output_type": "stream",
     "text": [
      "Best AMS: 1.4248 at threshold = 0.762\n"
     ]
    }
   ],
   "source": [
    "best_index = np.argmax(ams_scores)\n",
    "best_threshold = thresholds[best_index]\n",
    "best_ams = ams_scores[best_index]\n",
    "\n",
    "print(f\"Best AMS: {best_ams:.4f} at threshold = {best_threshold:.3f}\")"
   ]
  },
  {
   "cell_type": "markdown",
   "id": "3f7ef6d9-26e4-4c2c-bbfa-09ae4e59c867",
   "metadata": {},
   "source": [
    "**Here we can see that the sNN is more confident than the dNN, with a higher threshold**"
   ]
  },
  {
   "cell_type": "code",
   "execution_count": 44,
   "id": "f6e414ba-779e-4854-8bed-7f35d6c9c441",
   "metadata": {},
   "outputs": [],
   "source": [
    "y_final_preds = (y_probs > best_threshold).astype(int)"
   ]
  },
  {
   "cell_type": "code",
   "execution_count": 45,
   "id": "962f33a8-8f2d-48da-b835-76ae33e4f37a",
   "metadata": {},
   "outputs": [
    {
     "name": "stdout",
     "output_type": "stream",
     "text": [
      "Accuracy: 0.77218\n",
      "Confusion Matrix:\n",
      " [[32112   755]\n",
      " [10636  6497]]\n",
      "              precision    recall  f1-score   support\n",
      "\n",
      "         0.0       0.75      0.98      0.85     32867\n",
      "         1.0       0.90      0.38      0.53     17133\n",
      "\n",
      "    accuracy                           0.77     50000\n",
      "   macro avg       0.82      0.68      0.69     50000\n",
      "weighted avg       0.80      0.77      0.74     50000\n",
      "\n"
     ]
    }
   ],
   "source": [
    "from sklearn.metrics import accuracy_score, confusion_matrix, classification_report\n",
    "\n",
    "print(\"Accuracy:\", accuracy_score(y_test, y_final_preds))\n",
    "print(\"Confusion Matrix:\\n\", confusion_matrix(y_test, y_final_preds))\n",
    "print(classification_report(y_test, y_final_preds))"
   ]
  },
  {
   "cell_type": "code",
   "execution_count": null,
   "id": "5bed3342-b439-4244-9d10-a4fda6c98d22",
   "metadata": {},
   "outputs": [],
   "source": []
  }
 ],
 "metadata": {
  "kernelspec": {
   "display_name": "Python 3 (ipykernel)",
   "language": "python",
   "name": "python3"
  },
  "language_info": {
   "codemirror_mode": {
    "name": "ipython",
    "version": 3
   },
   "file_extension": ".py",
   "mimetype": "text/x-python",
   "name": "python",
   "nbconvert_exporter": "python",
   "pygments_lexer": "ipython3",
   "version": "3.11.7"
  }
 },
 "nbformat": 4,
 "nbformat_minor": 5
}
