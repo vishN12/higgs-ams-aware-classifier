{
 "cells": [
  {
   "cell_type": "markdown",
   "id": "3aa7def5-6538-484a-bd6e-e77562f38914",
   "metadata": {},
   "source": [
    "# Training a dNN For Higgs Boson Detection From ATLAS Experiment Data From CERN\n",
    "\n",
    "### Data Pre-processing:"
   ]
  },
  {
   "cell_type": "code",
   "execution_count": 1,
   "id": "c289d487-3d5c-4cbd-988b-1370dc0b960a",
   "metadata": {},
   "outputs": [],
   "source": [
    "import pandas as pd"
   ]
  },
  {
   "cell_type": "code",
   "execution_count": 3,
   "id": "d591c97e-7b6e-493b-891e-c7be95f343fe",
   "metadata": {},
   "outputs": [
    {
     "name": "stdout",
     "output_type": "stream",
     "text": [
      "(250000, 33)\n"
     ]
    },
    {
     "data": {
      "text/html": [
       "<div>\n",
       "<style scoped>\n",
       "    .dataframe tbody tr th:only-of-type {\n",
       "        vertical-align: middle;\n",
       "    }\n",
       "\n",
       "    .dataframe tbody tr th {\n",
       "        vertical-align: top;\n",
       "    }\n",
       "\n",
       "    .dataframe thead th {\n",
       "        text-align: right;\n",
       "    }\n",
       "</style>\n",
       "<table border=\"1\" class=\"dataframe\">\n",
       "  <thead>\n",
       "    <tr style=\"text-align: right;\">\n",
       "      <th></th>\n",
       "      <th>EventId</th>\n",
       "      <th>DER_mass_MMC</th>\n",
       "      <th>DER_mass_transverse_met_lep</th>\n",
       "      <th>DER_mass_vis</th>\n",
       "      <th>DER_pt_h</th>\n",
       "      <th>DER_deltaeta_jet_jet</th>\n",
       "      <th>DER_mass_jet_jet</th>\n",
       "      <th>DER_prodeta_jet_jet</th>\n",
       "      <th>DER_deltar_tau_lep</th>\n",
       "      <th>DER_pt_tot</th>\n",
       "      <th>...</th>\n",
       "      <th>PRI_jet_num</th>\n",
       "      <th>PRI_jet_leading_pt</th>\n",
       "      <th>PRI_jet_leading_eta</th>\n",
       "      <th>PRI_jet_leading_phi</th>\n",
       "      <th>PRI_jet_subleading_pt</th>\n",
       "      <th>PRI_jet_subleading_eta</th>\n",
       "      <th>PRI_jet_subleading_phi</th>\n",
       "      <th>PRI_jet_all_pt</th>\n",
       "      <th>Weight</th>\n",
       "      <th>Label</th>\n",
       "    </tr>\n",
       "  </thead>\n",
       "  <tbody>\n",
       "    <tr>\n",
       "      <th>0</th>\n",
       "      <td>100000</td>\n",
       "      <td>138.470</td>\n",
       "      <td>51.655</td>\n",
       "      <td>97.827</td>\n",
       "      <td>27.980</td>\n",
       "      <td>0.91</td>\n",
       "      <td>124.711</td>\n",
       "      <td>2.666</td>\n",
       "      <td>3.064</td>\n",
       "      <td>41.928</td>\n",
       "      <td>...</td>\n",
       "      <td>2</td>\n",
       "      <td>67.435</td>\n",
       "      <td>2.150</td>\n",
       "      <td>0.444</td>\n",
       "      <td>46.062</td>\n",
       "      <td>1.24</td>\n",
       "      <td>-2.475</td>\n",
       "      <td>113.497</td>\n",
       "      <td>0.002653</td>\n",
       "      <td>s</td>\n",
       "    </tr>\n",
       "    <tr>\n",
       "      <th>1</th>\n",
       "      <td>100001</td>\n",
       "      <td>160.937</td>\n",
       "      <td>68.768</td>\n",
       "      <td>103.235</td>\n",
       "      <td>48.146</td>\n",
       "      <td>-999.00</td>\n",
       "      <td>-999.000</td>\n",
       "      <td>-999.000</td>\n",
       "      <td>3.473</td>\n",
       "      <td>2.078</td>\n",
       "      <td>...</td>\n",
       "      <td>1</td>\n",
       "      <td>46.226</td>\n",
       "      <td>0.725</td>\n",
       "      <td>1.158</td>\n",
       "      <td>-999.000</td>\n",
       "      <td>-999.00</td>\n",
       "      <td>-999.000</td>\n",
       "      <td>46.226</td>\n",
       "      <td>2.233584</td>\n",
       "      <td>b</td>\n",
       "    </tr>\n",
       "    <tr>\n",
       "      <th>2</th>\n",
       "      <td>100002</td>\n",
       "      <td>-999.000</td>\n",
       "      <td>162.172</td>\n",
       "      <td>125.953</td>\n",
       "      <td>35.635</td>\n",
       "      <td>-999.00</td>\n",
       "      <td>-999.000</td>\n",
       "      <td>-999.000</td>\n",
       "      <td>3.148</td>\n",
       "      <td>9.336</td>\n",
       "      <td>...</td>\n",
       "      <td>1</td>\n",
       "      <td>44.251</td>\n",
       "      <td>2.053</td>\n",
       "      <td>-2.028</td>\n",
       "      <td>-999.000</td>\n",
       "      <td>-999.00</td>\n",
       "      <td>-999.000</td>\n",
       "      <td>44.251</td>\n",
       "      <td>2.347389</td>\n",
       "      <td>b</td>\n",
       "    </tr>\n",
       "    <tr>\n",
       "      <th>3</th>\n",
       "      <td>100003</td>\n",
       "      <td>143.905</td>\n",
       "      <td>81.417</td>\n",
       "      <td>80.943</td>\n",
       "      <td>0.414</td>\n",
       "      <td>-999.00</td>\n",
       "      <td>-999.000</td>\n",
       "      <td>-999.000</td>\n",
       "      <td>3.310</td>\n",
       "      <td>0.414</td>\n",
       "      <td>...</td>\n",
       "      <td>0</td>\n",
       "      <td>-999.000</td>\n",
       "      <td>-999.000</td>\n",
       "      <td>-999.000</td>\n",
       "      <td>-999.000</td>\n",
       "      <td>-999.00</td>\n",
       "      <td>-999.000</td>\n",
       "      <td>-0.000</td>\n",
       "      <td>5.446378</td>\n",
       "      <td>b</td>\n",
       "    </tr>\n",
       "    <tr>\n",
       "      <th>4</th>\n",
       "      <td>100004</td>\n",
       "      <td>175.864</td>\n",
       "      <td>16.915</td>\n",
       "      <td>134.805</td>\n",
       "      <td>16.405</td>\n",
       "      <td>-999.00</td>\n",
       "      <td>-999.000</td>\n",
       "      <td>-999.000</td>\n",
       "      <td>3.891</td>\n",
       "      <td>16.405</td>\n",
       "      <td>...</td>\n",
       "      <td>0</td>\n",
       "      <td>-999.000</td>\n",
       "      <td>-999.000</td>\n",
       "      <td>-999.000</td>\n",
       "      <td>-999.000</td>\n",
       "      <td>-999.00</td>\n",
       "      <td>-999.000</td>\n",
       "      <td>0.000</td>\n",
       "      <td>6.245333</td>\n",
       "      <td>b</td>\n",
       "    </tr>\n",
       "  </tbody>\n",
       "</table>\n",
       "<p>5 rows × 33 columns</p>\n",
       "</div>"
      ],
      "text/plain": [
       "   EventId  DER_mass_MMC  DER_mass_transverse_met_lep  DER_mass_vis  DER_pt_h  \\\n",
       "0   100000       138.470                       51.655        97.827    27.980   \n",
       "1   100001       160.937                       68.768       103.235    48.146   \n",
       "2   100002      -999.000                      162.172       125.953    35.635   \n",
       "3   100003       143.905                       81.417        80.943     0.414   \n",
       "4   100004       175.864                       16.915       134.805    16.405   \n",
       "\n",
       "   DER_deltaeta_jet_jet  DER_mass_jet_jet  DER_prodeta_jet_jet  \\\n",
       "0                  0.91           124.711                2.666   \n",
       "1               -999.00          -999.000             -999.000   \n",
       "2               -999.00          -999.000             -999.000   \n",
       "3               -999.00          -999.000             -999.000   \n",
       "4               -999.00          -999.000             -999.000   \n",
       "\n",
       "   DER_deltar_tau_lep  DER_pt_tot  ...  PRI_jet_num  PRI_jet_leading_pt  \\\n",
       "0               3.064      41.928  ...            2              67.435   \n",
       "1               3.473       2.078  ...            1              46.226   \n",
       "2               3.148       9.336  ...            1              44.251   \n",
       "3               3.310       0.414  ...            0            -999.000   \n",
       "4               3.891      16.405  ...            0            -999.000   \n",
       "\n",
       "   PRI_jet_leading_eta  PRI_jet_leading_phi  PRI_jet_subleading_pt  \\\n",
       "0                2.150                0.444                 46.062   \n",
       "1                0.725                1.158               -999.000   \n",
       "2                2.053               -2.028               -999.000   \n",
       "3             -999.000             -999.000               -999.000   \n",
       "4             -999.000             -999.000               -999.000   \n",
       "\n",
       "   PRI_jet_subleading_eta  PRI_jet_subleading_phi  PRI_jet_all_pt    Weight  \\\n",
       "0                    1.24                  -2.475         113.497  0.002653   \n",
       "1                 -999.00                -999.000          46.226  2.233584   \n",
       "2                 -999.00                -999.000          44.251  2.347389   \n",
       "3                 -999.00                -999.000          -0.000  5.446378   \n",
       "4                 -999.00                -999.000           0.000  6.245333   \n",
       "\n",
       "   Label  \n",
       "0      s  \n",
       "1      b  \n",
       "2      b  \n",
       "3      b  \n",
       "4      b  \n",
       "\n",
       "[5 rows x 33 columns]"
      ]
     },
     "execution_count": 3,
     "metadata": {},
     "output_type": "execute_result"
    }
   ],
   "source": [
    "train_df = pd.read_csv(\"training/training.csv\")\n",
    "test_df = pd.read_csv(\"test/test.csv\")\n",
    "\n",
    "print(train_df.shape)\n",
    "train_df.head()"
   ]
  },
  {
   "cell_type": "code",
   "execution_count": 5,
   "id": "471c66c8-bbb9-4644-8a6d-4708d614a768",
   "metadata": {},
   "outputs": [],
   "source": [
    "train_df.replace(-999.0, pd.NA, inplace=True)\n",
    "test_df.replace(-999.0, pd.NA, inplace=True)\n",
    "\n",
    "train_df.fillna(train_df.mean(numeric_only=True), inplace=True)\n",
    "test_df.fillna(test_df.mean(numeric_only=True), inplace=True)\n",
    "\n",
    "train_df.dropna(axis=1, thresh=int(0.9 * len(train_df)), inplace=True)\n",
    "test_df.dropna(axis=1, thresh=int(0.9 * len(test_df)), inplace=True)"
   ]
  },
  {
   "cell_type": "code",
   "execution_count": 6,
   "id": "85fe059e-a8f1-4b94-af2d-727782f22e8d",
   "metadata": {},
   "outputs": [],
   "source": [
    "train_df[\"Label\"] = train_df[\"Label\"].str.strip().str.lower()\n",
    "train_df[\"Label\"] = train_df[\"Label\"].map({'s': 1, 'b': 0})\n",
    "\n",
    "feature_cols = [col for col in train_df.columns if col.startswith(\"DER_\") or col.startswith(\"PRI_\")]\n",
    "\n",
    "X_test = test_df[feature_cols]"
   ]
  },
  {
   "cell_type": "code",
   "execution_count": 7,
   "id": "1198158d-ddc7-4edc-b60c-5b56701a97d6",
   "metadata": {},
   "outputs": [],
   "source": [
    "from sklearn.preprocessing import StandardScaler\n",
    "\n",
    "scaler = StandardScaler()\n",
    "X_train_scaled = scaler.fit_transform(X_train)\n",
    "X_test_scaled = scaler.transform(X_test)  # Use same scaler!"
   ]
  },
  {
   "cell_type": "code",
   "execution_count": 26,
   "id": "096b36e9-4ee9-42d0-8bfd-38cb65b39502",
   "metadata": {},
   "outputs": [],
   "source": [
    "from sklearn.model_selection import train_test_split\n",
    "\n",
    "X_full = X_train_scaled\n",
    "y_full = train_df[\"Label\"].values\n",
    "weights_full = train_df[\"Weight\"].values\n",
    "\n",
    "X_train, X_test, y_train, y_test, w_train, w_test = train_test_split(\n",
    "    X_full, y_full, weights_full, test_size=0.2, random_state=42, stratify=y_full\n",
    ")"
   ]
  },
  {
   "cell_type": "markdown",
   "id": "66b84b02-7507-45e8-a2c0-7d83cdf0cfcd",
   "metadata": {},
   "source": [
    "## Training a Baseline Neural Network\n",
    "\n",
    "### 5 hidden layers, 300 units, ReLU activation"
   ]
  },
  {
   "cell_type": "code",
   "execution_count": 54,
   "id": "33860694-bc9b-47a0-95c8-f122edf0fcd4",
   "metadata": {},
   "outputs": [],
   "source": [
    "import torch\n",
    "from torch.utils.data import TensorDataset, DataLoader\n",
    "\n",
    "X_train_tensor = torch.tensor(X_train, dtype=torch.float32)\n",
    "y_train_tensor = torch.tensor(y_train, dtype=torch.float32).unsqueeze(1)\n",
    "\n",
    "X_test_tensor = torch.tensor(X_test, dtype=torch.float32)\n",
    "y_test_tensor = torch.tensor(y_test, dtype=torch.float32).unsqueeze(1)\n",
    "\n",
    "train_dataset = TensorDataset(X_train_tensor, y_train_tensor)\n",
    "train_loader = DataLoader(train_dataset, batch_size=128, shuffle=True)\n",
    "\n",
    "test_dataset = TensorDataset(X_test_tensor, y_test_tensor)\n",
    "test_loader = DataLoader(test_dataset, batch_size=128)"
   ]
  },
  {
   "cell_type": "code",
   "execution_count": 51,
   "id": "1eac0916-e23f-48e2-9555-61994a4e03bc",
   "metadata": {},
   "outputs": [],
   "source": [
    "import torch.nn as nn\n",
    "import torch.optim as optim\n",
    "\n",
    "class HiggsNet(nn.Module):\n",
    "    def __init__(self, input_dim):\n",
    "        super(HiggsNet, self).__init__()\n",
    "        self.model = nn.Sequential(\n",
    "            nn.Linear(input_dim, 300),\n",
    "            nn.ReLU(),\n",
    "            nn.Dropout(0.5),\n",
    "            nn.Linear(300, 300),\n",
    "            nn.ReLU(),\n",
    "            nn.Dropout(0.5),\n",
    "            nn.Linear(300, 300),\n",
    "            nn.ReLU(),\n",
    "            nn.Dropout(0.5),\n",
    "            nn.Linear(300, 300),\n",
    "            nn.ReLU(),\n",
    "            nn.Dropout(0.5),\n",
    "            nn.Linear(300, 300),\n",
    "            nn.ReLU(),\n",
    "            nn.Dropout(0.5),\n",
    "            nn.Linear(300, 1),\n",
    "            nn.Sigmoid()\n",
    "        )\n",
    "\n",
    "    def forward(self, x):\n",
    "        return self.model(x)\n",
    "\n",
    "model = HiggsNet(X_train.shape[1])"
   ]
  },
  {
   "cell_type": "code",
   "execution_count": 11,
   "id": "621b9b98-ff7b-4867-8aa0-cbc33cfd188d",
   "metadata": {},
   "outputs": [],
   "source": [
    "criterion = nn.BCELoss()\n",
    "optimizer = optim.Adam(model.parameters(), lr=0.001)\n",
    "\n",
    "device = torch.device(\"cuda\" if torch.cuda.is_available() else \"cpu\")\n",
    "model = model.to(device)"
   ]
  },
  {
   "cell_type": "code",
   "execution_count": 12,
   "id": "8f2dd74a-0b6a-4f24-a3cc-8c73290db12a",
   "metadata": {},
   "outputs": [
    {
     "name": "stdout",
     "output_type": "stream",
     "text": [
      "Epoch 1/30, Loss: 0.4417\n",
      "Epoch 2/30, Loss: 0.4132\n",
      "Epoch 3/30, Loss: 0.4066\n",
      "Epoch 4/30, Loss: 0.4022\n",
      "Epoch 5/30, Loss: 0.4003\n",
      "Epoch 6/30, Loss: 0.3988\n",
      "Epoch 7/30, Loss: 0.3974\n",
      "Epoch 8/30, Loss: 0.3962\n",
      "Epoch 9/30, Loss: 0.3958\n",
      "Epoch 10/30, Loss: 0.3949\n",
      "Epoch 11/30, Loss: 0.3946\n",
      "Epoch 12/30, Loss: 0.3948\n",
      "Epoch 13/30, Loss: 0.3945\n",
      "Epoch 14/30, Loss: 0.3931\n",
      "Epoch 15/30, Loss: 0.3937\n",
      "Epoch 16/30, Loss: 0.3933\n",
      "Epoch 17/30, Loss: 0.3932\n",
      "Epoch 18/30, Loss: 0.3939\n",
      "Epoch 19/30, Loss: 0.3928\n",
      "Epoch 20/30, Loss: 0.3929\n",
      "Epoch 21/30, Loss: 0.3920\n",
      "Epoch 22/30, Loss: 0.3929\n",
      "Epoch 23/30, Loss: 0.3929\n",
      "Epoch 24/30, Loss: 0.3928\n",
      "Epoch 25/30, Loss: 0.3931\n",
      "Epoch 26/30, Loss: 0.3922\n",
      "Epoch 27/30, Loss: 0.3914\n",
      "Epoch 28/30, Loss: 0.3924\n",
      "Epoch 29/30, Loss: 0.3921\n",
      "Epoch 30/30, Loss: 0.3929\n"
     ]
    }
   ],
   "source": [
    "num_epochs = 30\n",
    "\n",
    "for epoch in range(num_epochs):\n",
    "    model.train()\n",
    "    running_loss = 0.0\n",
    "    for inputs, labels in train_loader:\n",
    "        inputs, labels = inputs.to(device), labels.to(device)\n",
    "\n",
    "        optimizer.zero_grad()\n",
    "        outputs = model(inputs)\n",
    "        loss = criterion(outputs, labels)\n",
    "        loss.backward()\n",
    "        optimizer.step()\n",
    "\n",
    "        running_loss += loss.item()\n",
    "\n",
    "    print(f\"Epoch {epoch+1}/{num_epochs}, Loss: {running_loss/len(train_loader):.4f}\")"
   ]
  },
  {
   "cell_type": "code",
   "execution_count": 21,
   "id": "7ff83662-592e-4ec6-bcca-b60860ef752e",
   "metadata": {},
   "outputs": [
    {
     "name": "stdout",
     "output_type": "stream",
     "text": [
      "Accuracy: 0.8330\n",
      "AUC-ROC: 0.9033\n",
      "Confusion Matrix:\n",
      "[[29007  3860]\n",
      " [ 4492 12641]]\n"
     ]
    }
   ],
   "source": [
    "from sklearn.metrics import accuracy_score, roc_auc_score, confusion_matrix\n",
    "\n",
    "model.eval()\n",
    "with torch.no_grad():\n",
    "    y_probs = []\n",
    "    y_true = []\n",
    "\n",
    "    for inputs, labels in test_loader:\n",
    "        inputs = inputs.to(device)\n",
    "        outputs = model(inputs)\n",
    "        y_probs.extend(outputs.cpu().numpy())\n",
    "        y_true.extend(labels.numpy())\n",
    "\n",
    "# Flatten predictions and true labels\n",
    "y_probs = [p[0] for p in y_probs]\n",
    "y_preds = [1 if p > 0.5 else 0 for p in y_probs]  # Threshold at 0.5\n",
    "\n",
    "# Metrics\n",
    "accuracy = accuracy_score(y_true, y_preds)\n",
    "auc = roc_auc_score(y_true, y_probs)\n",
    "cm = confusion_matrix(y_true, y_preds)\n",
    "\n",
    "print(f\"Accuracy: {accuracy:.4f}\")\n",
    "print(f\"AUC-ROC: {auc:.4f}\")\n",
    "print(\"Confusion Matrix:\")\n",
    "print(cm)"
   ]
  },
  {
   "cell_type": "code",
   "execution_count": 22,
   "id": "ab6d66ed-1f5a-4815-b875-6014f9900dcf",
   "metadata": {},
   "outputs": [],
   "source": [
    "import numpy as np\n",
    "\n",
    "def compute_ams(y_true, y_pred, weights, threshold=0.5, b_reg=10.0):\n",
    "    y_pred_class = (y_pred > threshold).astype(int)\n",
    "    \n",
    "    s = weights[(y_true == 1) & (y_pred_class == 1)].sum()\n",
    "    b = weights[(y_true == 0) & (y_pred_class == 1)].sum()\n",
    "    \n",
    "    ams = np.sqrt(2 * ((s + b + b_reg) * np.log(1.0 + s / (b + b_reg)) - s))\n",
    "    return ams"
   ]
  },
  {
   "cell_type": "code",
   "execution_count": 34,
   "id": "75e3d4ee-20df-4b6d-a8fd-ece963d0793c",
   "metadata": {},
   "outputs": [
    {
     "name": "stdout",
     "output_type": "stream",
     "text": [
      "AMS Score: 1.2204\n"
     ]
    }
   ],
   "source": [
    "y_probs = np.array(y_probs).reshape(-1)\n",
    "\n",
    "ams = compute_ams(y_test, y_probs, w_test)\n",
    "\n",
    "print(f\"AMS Score: {ams:.4f}\")"
   ]
  },
  {
   "cell_type": "code",
   "execution_count": 37,
   "id": "2f159b21-83bc-4e13-a02b-ead838403f55",
   "metadata": {},
   "outputs": [],
   "source": [
    "np.savez(\"deep_results.npz\", y_probs=y_probs, y_true=y_test)"
   ]
  },
  {
   "cell_type": "code",
   "execution_count": 39,
   "id": "c311a6cc-7a7b-4c64-a8cb-95229ecdb3b9",
   "metadata": {},
   "outputs": [
    {
     "data": {
      "image/png": "[encoded data removed]",
      "text/plain": [
       "<Figure size 640x480 with 1 Axes>"
      ]
     },
     "metadata": {},
     "output_type": "display_data"
    }
   ],
   "source": [
    "thresholds = np.linspace(0.01, 0.99, 100)\n",
    "ams_scores = [compute_ams(y_test, y_probs, w_test, threshold=t) for t in thresholds]\n",
    "\n",
    "plt.plot(thresholds, ams_scores)\n",
    "plt.xlabel(\"Threshold\")\n",
    "plt.ylabel(\"AMS\")\n",
    "plt.title(\"AMS vs Threshold\")\n",
    "plt.grid(True)\n",
    "plt.show()"
   ]
  },
  {
   "cell_type": "code",
   "execution_count": 40,
   "id": "f163996d-260f-409f-9aff-50d7757e19d7",
   "metadata": {},
   "outputs": [
    {
     "name": "stdout",
     "output_type": "stream",
     "text": [
      "Best AMS: 1.4486 at threshold = 0.673\n"
     ]
    }
   ],
   "source": [
    "best_index = np.argmax(ams_scores)\n",
    "best_threshold = thresholds[best_index]\n",
    "best_ams = ams_scores[best_index]\n",
    "\n",
    "print(f\"Best AMS: {best_ams:.4f} at threshold = {best_threshold:.3f}\")"
   ]
  },
  {
   "cell_type": "markdown",
   "id": "8fd179a1-0df1-420c-b6cc-87c33f45d1b2",
   "metadata": {},
   "source": [
    "**Here we can see that the dNN is more cautious than the sNN, with a higher threshold**"
   ]
  },
  {
   "cell_type": "code",
   "execution_count": 42,
   "id": "191d2af1-fdbe-45a6-ac2d-0f21ba4089bd",
   "metadata": {},
   "outputs": [],
   "source": [
    "y_final_preds = (y_probs > best_threshold).astype(int)"
   ]
  },
  {
   "cell_type": "code",
   "execution_count": 43,
   "id": "91df9cca-06c2-46aa-9b59-37cb3bda5f2b",
   "metadata": {},
   "outputs": [
    {
     "name": "stdout",
     "output_type": "stream",
     "text": [
      "Accuracy: 0.80158\n",
      "Confusion Matrix:\n",
      " [[31733  1134]\n",
      " [ 8787  8346]]\n",
      "              precision    recall  f1-score   support\n",
      "\n",
      "           0       0.78      0.97      0.86     32867\n",
      "           1       0.88      0.49      0.63     17133\n",
      "\n",
      "    accuracy                           0.80     50000\n",
      "   macro avg       0.83      0.73      0.75     50000\n",
      "weighted avg       0.82      0.80      0.78     50000\n",
      "\n"
     ]
    }
   ],
   "source": [
    "from sklearn.metrics import accuracy_score, confusion_matrix, classification_report\n",
    "\n",
    "print(\"Accuracy:\", accuracy_score(y_test, y_final_preds))\n",
    "print(\"Confusion Matrix:\\n\", confusion_matrix(y_test, y_final_preds))\n",
    "print(classification_report(y_test, y_final_preds))"
   ]
  },
  {
   "cell_type": "markdown",
   "id": "2b2f153a-0a46-44b1-9f29-a38db7892e64",
   "metadata": {},
   "source": [
    "## Training on AMS Loss"
   ]
  },
  {
   "cell_type": "code",
   "execution_count": 46,
   "id": "b738e165-28a0-4751-985d-1d734ca6e33f",
   "metadata": {},
   "outputs": [],
   "source": [
    "import torch\n",
    "\n",
    "class AMSLoss(nn.Module):\n",
    "    def __init__(self, b_reg=10.0):\n",
    "        super(AMSLoss, self).__init__()\n",
    "        self.b_reg = b_reg\n",
    "\n",
    "    def forward(self, y_pred, y_true, weights):\n",
    "        y_pred = y_pred.float()\n",
    "        y_true = y_true.float()\n",
    "        weights = weights.float()\n",
    "\n",
    "        y_pred = torch.clamp(y_pred, min=1e-7, max=1.0)\n",
    "\n",
    "        s_mask = (y_true == 1).float()\n",
    "        b_mask = (y_true == 0).float()\n",
    "\n",
    "        s = torch.sum(weights * s_mask * y_pred)\n",
    "        b = torch.sum(weights * b_mask * y_pred)\n",
    "\n",
    "        radicand = 2 * ((s + b + self.b_reg) * torch.log1p(s / (b + self.b_reg)) - s)\n",
    "        ams = torch.sqrt(torch.clamp(radicand, min=0.0))\n",
    "\n",
    "        return -ams"
   ]
  },
  {
   "cell_type": "code",
   "execution_count": 61,
   "id": "77ae30d5-10e0-43bd-91ff-aa87e3b3cc4f",
   "metadata": {},
   "outputs": [],
   "source": [
    "bce_loss_fn = nn.BCELoss()\n",
    "ams_loss_fn = AMSLoss()"
   ]
  },
  {
   "cell_type": "code",
   "execution_count": 62,
   "id": "ef02204d-ae77-44c0-8012-4b5e611bd090",
   "metadata": {},
   "outputs": [],
   "source": [
    "model = HiggsNet(input_dim=X_train.shape[1])\n",
    "model = model.to(device)\n",
    "\n",
    "criterion = AMSLoss()\n",
    "optimizer = torch.optim.Adam(model.parameters(), lr=0.001)"
   ]
  },
  {
   "cell_type": "code",
   "execution_count": 63,
   "id": "cbd6278a-151e-4916-b4d0-a80c378d6afb",
   "metadata": {},
   "outputs": [],
   "source": [
    "w_train_tensor = torch.tensor(w_train, dtype=torch.float32).unsqueeze(1)\n",
    "\n",
    "train_dataset = TensorDataset(X_train_tensor, y_train_tensor, w_train_tensor)\n",
    "train_loader = DataLoader(train_dataset, batch_size=128, shuffle=True)"
   ]
  },
  {
   "cell_type": "code",
   "execution_count": 64,
   "id": "5a0c8213-50dc-4a87-9fc3-6dfee5fddf80",
   "metadata": {},
   "outputs": [
    {
     "name": "stdout",
     "output_type": "stream",
     "text": [
      "Epoch 1/30 | Loss: 17.2673 | AMS: 2.4335\n",
      "Epoch 2/30 | Loss: 7.7243 | AMS: 2.4085\n",
      "Epoch 3/30 | Loss: 5.3978 | AMS: 2.2973\n",
      "Epoch 4/30 | Loss: 4.1881 | AMS: 2.3412\n",
      "Epoch 5/30 | Loss: 3.1968 | AMS: 2.3415\n",
      "Epoch 6/30 | Loss: 2.6622 | AMS: 2.3756\n",
      "Epoch 7/30 | Loss: 2.4842 | AMS: 2.3410\n",
      "Epoch 8/30 | Loss: 2.0097 | AMS: 2.3577\n",
      "Epoch 9/30 | Loss: 1.8031 | AMS: 2.3728\n",
      "Epoch 10/30 | Loss: 1.4574 | AMS: 2.3982\n",
      "Epoch 11/30 | Loss: 1.5693 | AMS: 2.3117\n",
      "Epoch 12/30 | Loss: 1.2443 | AMS: 2.3705\n",
      "Epoch 13/30 | Loss: 1.1531 | AMS: 2.3322\n",
      "Epoch 14/30 | Loss: 1.3216 | AMS: 2.4416\n",
      "Epoch 15/30 | Loss: 0.7265 | AMS: 2.3517\n",
      "Epoch 16/30 | Loss: 0.8045 | AMS: 2.3376\n",
      "Epoch 17/30 | Loss: 1.0233 | AMS: 2.2914\n",
      "Epoch 18/30 | Loss: 0.7146 | AMS: 2.3109\n",
      "Epoch 19/30 | Loss: 0.7452 | AMS: 2.4101\n",
      "Epoch 20/30 | Loss: 0.7927 | AMS: 2.4082\n",
      "Epoch 21/30 | Loss: 0.8045 | AMS: 2.4025\n",
      "Epoch 22/30 | Loss: 0.4202 | AMS: 2.4112\n",
      "Epoch 23/30 | Loss: 0.5302 | AMS: 2.3840\n",
      "Epoch 24/30 | Loss: 0.6107 | AMS: 2.3858\n",
      "Epoch 25/30 | Loss: 0.4298 | AMS: 2.3638\n",
      "Epoch 26/30 | Loss: 0.6048 | AMS: 2.4271\n",
      "Epoch 27/30 | Loss: 0.5579 | AMS: 2.4105\n",
      "Epoch 28/30 | Loss: 0.3264 | AMS: 2.4542\n",
      "Epoch 29/30 | Loss: 0.3425 | AMS: 2.3208\n",
      "Epoch 30/30 | Loss: 0.3247 | AMS: 2.3334\n"
     ]
    }
   ],
   "source": [
    "ams_weight = 1.0\n",
    "bce_weight = 0.1 \n",
    "\n",
    "for epoch in range(num_epochs):\n",
    "    model.train()\n",
    "    total_loss = 0\n",
    "\n",
    "    for X_batch, y_batch, w_batch in train_loader:\n",
    "        X_batch = X_batch.to(device)\n",
    "        y_batch = y_batch.to(device)\n",
    "        w_batch = w_batch.to(device)\n",
    "\n",
    "        optimizer.zero_grad()\n",
    "        y_pred = model(X_batch)\n",
    "\n",
    "        ams_loss = ams_loss_fn(y_pred, y_batch, w_batch)\n",
    "        bce_loss = bce_loss_fn(y_pred, y_batch)\n",
    "\n",
    "        loss = ams_weight * ams_loss + bce_weight * bce_loss\n",
    "\n",
    "        loss.backward()\n",
    "        optimizer.step()\n",
    "\n",
    "        total_loss += loss.item()\n",
    "\n",
    "    model.eval()\n",
    "    with torch.no_grad():\n",
    "        train_probs = model(torch.tensor(X_train, dtype=torch.float32).to(device)).cpu().numpy().ravel()\n",
    "        ams_val = compute_ams(y_train, train_probs, w_train)\n",
    "\n",
    "    print(f\"Epoch {epoch+1}/{num_epochs} | Loss: {total_loss:.4f} | AMS: {ams_val:.4f}\")"
   ]
  },
  {
   "cell_type": "code",
   "execution_count": 65,
   "id": "bc038ce5-79aa-4cab-8c7a-0142b953ccdd",
   "metadata": {},
   "outputs": [
    {
     "name": "stdout",
     "output_type": "stream",
     "text": [
      "Accuracy: 0.8205\n",
      "AUC-ROC: 0.8967\n",
      "Confusion Matrix:\n",
      "[[27115  5752]\n",
      " [ 3224 13909]]\n"
     ]
    }
   ],
   "source": [
    "from sklearn.metrics import accuracy_score, roc_auc_score, confusion_matrix\n",
    "\n",
    "model.eval()\n",
    "with torch.no_grad():\n",
    "    y_probs = []\n",
    "    y_true = []\n",
    "\n",
    "    for inputs, labels in test_loader:\n",
    "        inputs = inputs.to(device)\n",
    "        outputs = model(inputs)\n",
    "        y_probs.extend(outputs.cpu().numpy())\n",
    "        y_true.extend(labels.numpy())\n",
    "\n",
    "# Flatten predictions and true labels\n",
    "y_probs = [p[0] for p in y_probs]\n",
    "y_preds = [1 if p > 0.5 else 0 for p in y_probs]  # Threshold at 0.5\n",
    "\n",
    "# Metrics\n",
    "accuracy = accuracy_score(y_true, y_preds)\n",
    "auc = roc_auc_score(y_true, y_probs)\n",
    "cm = confusion_matrix(y_true, y_preds)\n",
    "\n",
    "print(f\"Accuracy: {accuracy:.4f}\")\n",
    "print(f\"AUC-ROC: {auc:.4f}\")\n",
    "print(\"Confusion Matrix:\")\n",
    "print(cm)"
   ]
  },
  {
   "cell_type": "code",
   "execution_count": 66,
   "id": "6a7a95d1-509f-46d0-999e-489d3148b2b3",
   "metadata": {},
   "outputs": [
    {
     "name": "stdout",
     "output_type": "stream",
     "text": [
      "AMS Score: 1.1602\n"
     ]
    }
   ],
   "source": [
    "y_probs = np.array(y_probs).reshape(-1)\n",
    "\n",
    "ams = compute_ams(y_test, y_probs, w_test)\n",
    "\n",
    "print(f\"AMS Score: {ams:.4f}\")"
   ]
  },
  {
   "cell_type": "code",
   "execution_count": 67,
   "id": "f9d7635b-5c22-40ac-8ca2-bc05aaba15bb",
   "metadata": {},
   "outputs": [
    {
     "data": {
      "image/png": "[encoded data removed]",
      "text/plain": [
       "<Figure size 640x480 with 1 Axes>"
      ]
     },
     "metadata": {},
     "output_type": "display_data"
    }
   ],
   "source": [
    "thresholds = np.linspace(0.01, 0.99, 100)\n",
    "ams_scores = [compute_ams(y_test, y_probs, w_test, threshold=t) for t in thresholds]\n",
    "\n",
    "plt.plot(thresholds, ams_scores)\n",
    "plt.xlabel(\"Threshold\")\n",
    "plt.ylabel(\"AMS\")\n",
    "plt.title(\"AMS vs Threshold\")\n",
    "plt.grid(True)\n",
    "plt.show()"
   ]
  },
  {
   "cell_type": "code",
   "execution_count": 68,
   "id": "c9ac3295-115c-4188-800b-fd13cd8df08e",
   "metadata": {},
   "outputs": [
    {
     "name": "stdout",
     "output_type": "stream",
     "text": [
      "Best AMS: 1.4698 at threshold = 0.891\n"
     ]
    }
   ],
   "source": [
    "best_index = np.argmax(ams_scores)\n",
    "best_threshold = thresholds[best_index]\n",
    "best_ams = ams_scores[best_index]\n",
    "\n",
    "print(f\"Best AMS: {best_ams:.4f} at threshold = {best_threshold:.3f}\")"
   ]
  },
  {
   "cell_type": "code",
   "execution_count": 69,
   "id": "31c50ccc-843d-4580-a0e7-942a6f45ae52",
   "metadata": {},
   "outputs": [
    {
     "data": {
      "image/png": "[encoded data removed]",
      "text/plain": [
       "<Figure size 640x480 with 1 Axes>"
      ]
     },
     "metadata": {},
     "output_type": "display_data"
    }
   ],
   "source": [
    "import matplotlib.pyplot as plt\n",
    "plt.hist(y_probs, bins=50)\n",
    "plt.title(\"Prediction Distribution\")\n",
    "plt.xlabel(\"Predicted Probability\")\n",
    "plt.ylabel(\"Count\")\n",
    "plt.grid(True)\n",
    "plt.show()"
   ]
  },
  {
   "cell_type": "code",
   "execution_count": 70,
   "id": "d4fab9c8-a3a7-4413-9e3f-25d79bb76a52",
   "metadata": {},
   "outputs": [],
   "source": [
    "np.savez(\"ams_loss_results.npz\", y_probs=y_probs, y_true=y_test)"
   ]
  },
  {
   "cell_type": "code",
   "execution_count": null,
   "id": "965c8d4b-1cba-4d19-aa0b-6f7d16973df7",
   "metadata": {},
   "outputs": [],
   "source": []
  }
 ],
 "metadata": {
  "kernelspec": {
   "display_name": "Python 3 (ipykernel)",
   "language": "python",
   "name": "python3"
  },
  "language_info": {
   "codemirror_mode": {
    "name": "ipython",
    "version": 3
   },
   "file_extension": ".py",
   "mimetype": "text/x-python",
   "name": "python",
   "nbconvert_exporter": "python",
   "pygments_lexer": "ipython3",
   "version": "3.11.7"
  }
 },
 "nbformat": 4,
 "nbformat_minor": 5
}
